{
 "cells": [
  {
   "cell_type": "code",
   "execution_count": 1,
   "metadata": {
    "collapsed": true
   },
   "outputs": [],
   "source": [
    "%matplotlib inline\n",
    "import numpy as np, pandas as pd\n",
    "import matplotlib.pyplot as plt, seaborn as sns"
   ]
  },
  {
   "cell_type": "code",
   "execution_count": 2,
   "metadata": {
    "collapsed": true
   },
   "outputs": [],
   "source": [
    "df = pd.read_csv('data/games.csv', lineterminator='\\n')"
   ]
  },
  {
   "cell_type": "code",
   "execution_count": 3,
   "metadata": {},
   "outputs": [
    {
     "data": {
      "text/plain": [
       "(5158, 18)"
      ]
     },
     "execution_count": 3,
     "metadata": {},
     "output_type": "execute_result"
    }
   ],
   "source": [
    "df.shape"
   ]
  },
  {
   "cell_type": "code",
   "execution_count": 4,
   "metadata": {},
   "outputs": [
    {
     "data": {
      "text/html": [
       "<div>\n",
       "<style>\n",
       "    .dataframe thead tr:only-child th {\n",
       "        text-align: right;\n",
       "    }\n",
       "\n",
       "    .dataframe thead th {\n",
       "        text-align: left;\n",
       "    }\n",
       "\n",
       "    .dataframe tbody tr th {\n",
       "        vertical-align: top;\n",
       "    }\n",
       "</style>\n",
       "<table border=\"1\" class=\"dataframe\">\n",
       "  <thead>\n",
       "    <tr style=\"text-align: right;\">\n",
       "      <th></th>\n",
       "      <th>0</th>\n",
       "      <th>1</th>\n",
       "      <th>2</th>\n",
       "      <th>3</th>\n",
       "      <th>4</th>\n",
       "    </tr>\n",
       "  </thead>\n",
       "  <tbody>\n",
       "    <tr>\n",
       "      <th>title</th>\n",
       "      <td>10 Second Ninja X</td>\n",
       "      <td>1000 Top Rated</td>\n",
       "      <td>1001 Spikes</td>\n",
       "      <td>100ft Robot Golf</td>\n",
       "      <td>101 Ways to Die</td>\n",
       "    </tr>\n",
       "    <tr>\n",
       "      <th>platform</th>\n",
       "      <td>PlayStation 4</td>\n",
       "      <td>PlayStation 4</td>\n",
       "      <td>PlayStation 4</td>\n",
       "      <td>PlayStation 4</td>\n",
       "      <td>PlayStation 4</td>\n",
       "    </tr>\n",
       "    <tr>\n",
       "      <th>developer</th>\n",
       "      <td>GameDesignDan</td>\n",
       "      <td>Top Rated</td>\n",
       "      <td>Nicalis</td>\n",
       "      <td>No Goblin</td>\n",
       "      <td>4 Door Lemon</td>\n",
       "    </tr>\n",
       "    <tr>\n",
       "      <th>genre</th>\n",
       "      <td>['Action', 'Platformer', '2D']</td>\n",
       "      <td>['Miscellaneous', 'Party / Minigame']</td>\n",
       "      <td>['Action', 'Platformer', 'Platformer', '2D', '...</td>\n",
       "      <td>['Sports', 'Individual', 'Golf', 'Arcade']</td>\n",
       "      <td>['Action', 'Platformer', '2D']</td>\n",
       "    </tr>\n",
       "    <tr>\n",
       "      <th>rating</th>\n",
       "      <td>T</td>\n",
       "      <td>NaN</td>\n",
       "      <td>T</td>\n",
       "      <td>E10+</td>\n",
       "      <td>T</td>\n",
       "    </tr>\n",
       "    <tr>\n",
       "      <th>release_date</th>\n",
       "      <td>2016-07-19</td>\n",
       "      <td>2017-06-27</td>\n",
       "      <td>2014-06-03</td>\n",
       "      <td>2017-09-27</td>\n",
       "      <td>2016-03-22</td>\n",
       "    </tr>\n",
       "    <tr>\n",
       "      <th>summary</th>\n",
       "      <td>If you want a cheesy story to go along with a ...</td>\n",
       "      <td>This game is a puzzle game, but it's more like...</td>\n",
       "      <td>If you miss the crippling difficulty of the NE...</td>\n",
       "      <td>100ft Robot Golf is a real-time golf game thro...</td>\n",
       "      <td>A game that makes me laugh and want to play mo...</td>\n",
       "    </tr>\n",
       "    <tr>\n",
       "      <th>meta_score</th>\n",
       "      <td>76</td>\n",
       "      <td>0</td>\n",
       "      <td>78</td>\n",
       "      <td>56</td>\n",
       "      <td>60</td>\n",
       "    </tr>\n",
       "    <tr>\n",
       "      <th>meta_overview</th>\n",
       "      <td>Generally favorable reviews</td>\n",
       "      <td>No score yet</td>\n",
       "      <td>Generally favorable reviews</td>\n",
       "      <td>Mixed or average reviews</td>\n",
       "      <td>Mixed or average reviews</td>\n",
       "    </tr>\n",
       "    <tr>\n",
       "      <th>meta_pos</th>\n",
       "      <td>11</td>\n",
       "      <td>0</td>\n",
       "      <td>6</td>\n",
       "      <td>3</td>\n",
       "      <td>1</td>\n",
       "    </tr>\n",
       "    <tr>\n",
       "      <th>meta_mixed</th>\n",
       "      <td>5</td>\n",
       "      <td>0</td>\n",
       "      <td>2</td>\n",
       "      <td>12</td>\n",
       "      <td>5</td>\n",
       "    </tr>\n",
       "    <tr>\n",
       "      <th>meta_neg</th>\n",
       "      <td>0</td>\n",
       "      <td>0</td>\n",
       "      <td>0</td>\n",
       "      <td>3</td>\n",
       "      <td>0</td>\n",
       "    </tr>\n",
       "    <tr>\n",
       "      <th>user_score</th>\n",
       "      <td>5.5</td>\n",
       "      <td>2</td>\n",
       "      <td>6.6</td>\n",
       "      <td>5.9</td>\n",
       "      <td>5</td>\n",
       "    </tr>\n",
       "    <tr>\n",
       "      <th>user_overview</th>\n",
       "      <td>Mixed or average reviews</td>\n",
       "      <td>Generally unfavorable reviews</td>\n",
       "      <td>Mixed or average reviews</td>\n",
       "      <td>Mixed or average reviews</td>\n",
       "      <td>Mixed or average reviews</td>\n",
       "    </tr>\n",
       "    <tr>\n",
       "      <th>user_pos</th>\n",
       "      <td>8</td>\n",
       "      <td>0</td>\n",
       "      <td>21</td>\n",
       "      <td>9</td>\n",
       "      <td>2</td>\n",
       "    </tr>\n",
       "    <tr>\n",
       "      <th>user_mixed</th>\n",
       "      <td>3</td>\n",
       "      <td>1</td>\n",
       "      <td>7</td>\n",
       "      <td>2</td>\n",
       "      <td>0</td>\n",
       "    </tr>\n",
       "    <tr>\n",
       "      <th>user_neg</th>\n",
       "      <td>6</td>\n",
       "      <td>3</td>\n",
       "      <td>8</td>\n",
       "      <td>6</td>\n",
       "      <td>2</td>\n",
       "    </tr>\n",
       "    <tr>\n",
       "      <th>n_user_score</th>\n",
       "      <td>55</td>\n",
       "      <td>20</td>\n",
       "      <td>66</td>\n",
       "      <td>59</td>\n",
       "      <td>50</td>\n",
       "    </tr>\n",
       "  </tbody>\n",
       "</table>\n",
       "</div>"
      ],
      "text/plain": [
       "                                                               0  \\\n",
       "title                                          10 Second Ninja X   \n",
       "platform                                           PlayStation 4   \n",
       "developer                                          GameDesignDan   \n",
       "genre                             ['Action', 'Platformer', '2D']   \n",
       "rating                                                         T   \n",
       "release_date                                          2016-07-19   \n",
       "summary        If you want a cheesy story to go along with a ...   \n",
       "meta_score                                                    76   \n",
       "meta_overview                        Generally favorable reviews   \n",
       "meta_pos                                                      11   \n",
       "meta_mixed                                                     5   \n",
       "meta_neg                                                       0   \n",
       "user_score                                                   5.5   \n",
       "user_overview                           Mixed or average reviews   \n",
       "user_pos                                                       8   \n",
       "user_mixed                                                     3   \n",
       "user_neg                                                       6   \n",
       "n_user_score                                                  55   \n",
       "\n",
       "                                                               1  \\\n",
       "title                                             1000 Top Rated   \n",
       "platform                                           PlayStation 4   \n",
       "developer                                              Top Rated   \n",
       "genre                      ['Miscellaneous', 'Party / Minigame']   \n",
       "rating                                                       NaN   \n",
       "release_date                                          2017-06-27   \n",
       "summary        This game is a puzzle game, but it's more like...   \n",
       "meta_score                                                     0   \n",
       "meta_overview                                       No score yet   \n",
       "meta_pos                                                       0   \n",
       "meta_mixed                                                     0   \n",
       "meta_neg                                                       0   \n",
       "user_score                                                     2   \n",
       "user_overview                      Generally unfavorable reviews   \n",
       "user_pos                                                       0   \n",
       "user_mixed                                                     1   \n",
       "user_neg                                                       3   \n",
       "n_user_score                                                  20   \n",
       "\n",
       "                                                               2  \\\n",
       "title                                                1001 Spikes   \n",
       "platform                                           PlayStation 4   \n",
       "developer                                                Nicalis   \n",
       "genre          ['Action', 'Platformer', 'Platformer', '2D', '...   \n",
       "rating                                                         T   \n",
       "release_date                                          2014-06-03   \n",
       "summary        If you miss the crippling difficulty of the NE...   \n",
       "meta_score                                                    78   \n",
       "meta_overview                        Generally favorable reviews   \n",
       "meta_pos                                                       6   \n",
       "meta_mixed                                                     2   \n",
       "meta_neg                                                       0   \n",
       "user_score                                                   6.6   \n",
       "user_overview                           Mixed or average reviews   \n",
       "user_pos                                                      21   \n",
       "user_mixed                                                     7   \n",
       "user_neg                                                       8   \n",
       "n_user_score                                                  66   \n",
       "\n",
       "                                                               3  \\\n",
       "title                                           100ft Robot Golf   \n",
       "platform                                           PlayStation 4   \n",
       "developer                                              No Goblin   \n",
       "genre                 ['Sports', 'Individual', 'Golf', 'Arcade']   \n",
       "rating                                                      E10+   \n",
       "release_date                                          2017-09-27   \n",
       "summary        100ft Robot Golf is a real-time golf game thro...   \n",
       "meta_score                                                    56   \n",
       "meta_overview                           Mixed or average reviews   \n",
       "meta_pos                                                       3   \n",
       "meta_mixed                                                    12   \n",
       "meta_neg                                                       3   \n",
       "user_score                                                   5.9   \n",
       "user_overview                           Mixed or average reviews   \n",
       "user_pos                                                       9   \n",
       "user_mixed                                                     2   \n",
       "user_neg                                                       6   \n",
       "n_user_score                                                  59   \n",
       "\n",
       "                                                               4  \n",
       "title                                            101 Ways to Die  \n",
       "platform                                           PlayStation 4  \n",
       "developer                                           4 Door Lemon  \n",
       "genre                             ['Action', 'Platformer', '2D']  \n",
       "rating                                                         T  \n",
       "release_date                                          2016-03-22  \n",
       "summary        A game that makes me laugh and want to play mo...  \n",
       "meta_score                                                    60  \n",
       "meta_overview                           Mixed or average reviews  \n",
       "meta_pos                                                       1  \n",
       "meta_mixed                                                     5  \n",
       "meta_neg                                                       0  \n",
       "user_score                                                     5  \n",
       "user_overview                           Mixed or average reviews  \n",
       "user_pos                                                       2  \n",
       "user_mixed                                                     0  \n",
       "user_neg                                                       2  \n",
       "n_user_score                                                  50  "
      ]
     },
     "execution_count": 4,
     "metadata": {},
     "output_type": "execute_result"
    }
   ],
   "source": [
    "df.head().transpose()"
   ]
  },
  {
   "cell_type": "code",
   "execution_count": 12,
   "metadata": {
    "collapsed": true
   },
   "outputs": [],
   "source": [
    "plt.rc('xtick', labelsize=14)\n",
    "plt.rc('ytick', labelsize=14)\n",
    "sns.set_style(style='whitegrid')"
   ]
  },
  {
   "cell_type": "markdown",
   "metadata": {
    "heading_collapsed": true
   },
   "source": [
    "### General"
   ]
  },
  {
   "cell_type": "code",
   "execution_count": 13,
   "metadata": {
    "hidden": true
   },
   "outputs": [
    {
     "data": {
      "image/png": "[encoded data removed]",
      "text/plain": [
       "<matplotlib.figure.Figure at 0x7efd243e4048>"
      ]
     },
     "metadata": {},
     "output_type": "display_data"
    }
   ],
   "source": [
    "df.groupby('platform')['title'].count().sort_values(ascending=False).plot.bar(figsize=(10, 6), rot=0);"
   ]
  },
  {
   "cell_type": "code",
   "execution_count": 151,
   "metadata": {
    "collapsed": true,
    "hidden": true
   },
   "outputs": [],
   "source": [
    "df.loc[df['developer'] == 'EA Sports, EA Vancouver', 'developer'] = 'EA Sports'\n",
    "df.loc[df['developer'] == 'EA Vancouver', 'developer'] = 'EA Sports'"
   ]
  },
  {
   "cell_type": "code",
   "execution_count": 152,
   "metadata": {
    "collapsed": true,
    "hidden": true
   },
   "outputs": [],
   "source": [
    "tmp = df.loc[(df['meta_overview'] != 'No score yet') & (df['user_overview'] != 'No user score yet')].copy()"
   ]
  },
  {
   "cell_type": "code",
   "execution_count": 14,
   "metadata": {
    "hidden": true
   },
   "outputs": [
    {
     "data": {
      "image/png": "[encoded data removed]",
      "text/plain": [
       "<matplotlib.figure.Figure at 0x7efd24566898>"
      ]
     },
     "metadata": {},
     "output_type": "display_data"
    }
   ],
   "source": [
    "tmp.groupby('platform')['meta_score', 'n_user_score'].mean().sort_values('meta_score', ascending=False).plot.bar(figsize=(10, 6), rot=0);"
   ]
  },
  {
   "cell_type": "code",
   "execution_count": 18,
   "metadata": {
    "hidden": true
   },
   "outputs": [
    {
     "data": {
      "image/png": "[encoded data removed]",
      "text/plain": [
       "<matplotlib.figure.Figure at 0x7efd2123a748>"
      ]
     },
     "metadata": {},
     "output_type": "display_data"
    }
   ],
   "source": [
    "tmp[['meta_score']].plot.hist(bins=25, figsize=(12, 6));"
   ]
  },
  {
   "cell_type": "code",
   "execution_count": 19,
   "metadata": {
    "hidden": true
   },
   "outputs": [
    {
     "data": {
      "image/png": "[encoded data removed]",
      "text/plain": [
       "<matplotlib.figure.Figure at 0x7efd20147828>"
      ]
     },
     "metadata": {},
     "output_type": "display_data"
    }
   ],
   "source": [
    "tmp[['n_user_score']].plot.hist(bins=25, figsize=(12, 6));"
   ]
  },
  {
   "cell_type": "code",
   "execution_count": 27,
   "metadata": {
    "collapsed": true,
    "hidden": true
   },
   "outputs": [],
   "source": [
    "ps4 = tmp.loc[tmp['platform'] == 'PlayStation 4']"
   ]
  },
  {
   "cell_type": "code",
   "execution_count": 44,
   "metadata": {
    "hidden": true
   },
   "outputs": [
    {
     "data": {
      "image/png": "[encoded data removed]",
      "text/plain": [
       "<matplotlib.figure.Figure at 0x7efd2016c978>"
      ]
     },
     "metadata": {},
     "output_type": "display_data"
    }
   ],
   "source": [
    "ps4.groupby('meta_overview')['title'].count().sort_values(ascending=False).plot.bar(figsize=(10, 6));"
   ]
  },
  {
   "cell_type": "code",
   "execution_count": 45,
   "metadata": {
    "hidden": true
   },
   "outputs": [
    {
     "data": {
      "image/png": "[encoded data removed]",
      "text/plain": [
       "<matplotlib.figure.Figure at 0x7efd2007b6a0>"
      ]
     },
     "metadata": {},
     "output_type": "display_data"
    }
   ],
   "source": [
    "ps4.groupby('user_overview')['title'].count().sort_values(ascending=False).plot.bar(figsize=(10, 6));"
   ]
  },
  {
   "cell_type": "code",
   "execution_count": 23,
   "metadata": {
    "hidden": true
   },
   "outputs": [],
   "source": [
    "df['release_date'] = pd.to_datetime(df['release_date'])\n",
    "df['month'] = df['release_date'].dt.month\n",
    "df['year'] = df['release_date'].dt.year"
   ]
  },
  {
   "cell_type": "code",
   "execution_count": 25,
   "metadata": {
    "hidden": true
   },
   "outputs": [
    {
     "data": {
      "image/png": "[encoded data removed]",
      "text/plain": [
       "<matplotlib.figure.Figure at 0x7efd2002d9e8>"
      ]
     },
     "metadata": {},
     "output_type": "display_data"
    }
   ],
   "source": [
    "df.groupby(['year', 'month'])['title'].count().groupby('month').mean().plot(figsize=(12, 6));"
   ]
  },
  {
   "cell_type": "code",
   "execution_count": 53,
   "metadata": {
    "hidden": true
   },
   "outputs": [
    {
     "data": {
      "image/png": "[encoded data removed]",
      "text/plain": [
       "<matplotlib.figure.Figure at 0x7efd1ac6b898>"
      ]
     },
     "metadata": {},
     "output_type": "display_data"
    }
   ],
   "source": [
    "df.loc[(df['year'] > 2013) & (df['year'] < 2018) & (df['platform'] != 'Switch')].groupby(['year', 'platform'])['title'].count().unstack().plot.bar(figsize=(10, 6));"
   ]
  },
  {
   "cell_type": "code",
   "execution_count": 76,
   "metadata": {
    "hidden": true
   },
   "outputs": [
    {
     "data": {
      "image/png": "[encoded data removed]",
      "text/plain": [
       "<matplotlib.figure.Figure at 0x7efd1b482c88>"
      ]
     },
     "metadata": {},
     "output_type": "display_data"
    }
   ],
   "source": [
    "tmp.loc[(tmp['year'] > 2013) & (tmp['year'] < 2018) & (tmp['platform'] != 'Switch')].groupby(['year', 'platform'])['n_user_score'].mean().unstack().plot.bar(figsize=(10, 6));"
   ]
  },
  {
   "cell_type": "code",
   "execution_count": 83,
   "metadata": {
    "hidden": true
   },
   "outputs": [
    {
     "data": {
      "text/plain": [
       "platform\n",
       "PlayStation 4    22\n",
       "Xbox One         14\n",
       "Switch            7\n",
       "Name: title, dtype: int64"
      ]
     },
     "execution_count": 83,
     "metadata": {},
     "output_type": "execute_result"
    }
   ],
   "source": [
    "tmp.loc[tmp['meta_score'] >= 90].groupby('platform')['title'].count().sort_values(ascending=False)"
   ]
  },
  {
   "cell_type": "code",
   "execution_count": 89,
   "metadata": {
    "hidden": true
   },
   "outputs": [
    {
     "data": {
      "text/plain": [
       "platform\n",
       "PlayStation 4    5\n",
       "Xbox One         2\n",
       "Name: title, dtype: int64"
      ]
     },
     "execution_count": 89,
     "metadata": {},
     "output_type": "execute_result"
    }
   ],
   "source": [
    "tmp.loc[tmp['n_user_score'] >= 90].groupby('platform')['title'].count().sort_values(ascending=False)"
   ]
  },
  {
   "cell_type": "code",
   "execution_count": 153,
   "metadata": {
    "hidden": true
   },
   "outputs": [],
   "source": [
    "tmp['dif'] = tmp['meta_score'] - tmp['n_user_score']"
   ]
  },
  {
   "cell_type": "code",
   "execution_count": 154,
   "metadata": {
    "collapsed": true,
    "hidden": true
   },
   "outputs": [],
   "source": [
    "ps4 = tmp.loc[tmp['platform'] == 'PlayStation 4']\n",
    "xone = tmp.loc[tmp['platform'] == 'Xbox One']\n",
    "switch = tmp.loc[tmp['platform'] == 'Switch']"
   ]
  },
  {
   "cell_type": "code",
   "execution_count": 87,
   "metadata": {
    "hidden": true
   },
   "outputs": [
    {
     "data": {
      "text/html": [
       "<div>\n",
       "<style>\n",
       "    .dataframe thead tr:only-child th {\n",
       "        text-align: right;\n",
       "    }\n",
       "\n",
       "    .dataframe thead th {\n",
       "        text-align: left;\n",
       "    }\n",
       "\n",
       "    .dataframe tbody tr th {\n",
       "        vertical-align: top;\n",
       "    }\n",
       "</style>\n",
       "<table border=\"1\" class=\"dataframe\">\n",
       "  <thead>\n",
       "    <tr style=\"text-align: right;\">\n",
       "      <th></th>\n",
       "      <th>title</th>\n",
       "      <th>meta_score</th>\n",
       "    </tr>\n",
       "  </thead>\n",
       "  <tbody>\n",
       "    <tr>\n",
       "      <th>0</th>\n",
       "      <td>Grand Theft Auto V</td>\n",
       "      <td>97</td>\n",
       "    </tr>\n",
       "    <tr>\n",
       "      <th>1</th>\n",
       "      <td>The Last of Us Remastered</td>\n",
       "      <td>95</td>\n",
       "    </tr>\n",
       "    <tr>\n",
       "      <th>2</th>\n",
       "      <td>XCOM 2: War of the Chosen</td>\n",
       "      <td>94</td>\n",
       "    </tr>\n",
       "    <tr>\n",
       "      <th>3</th>\n",
       "      <td>Persona 5</td>\n",
       "      <td>93</td>\n",
       "    </tr>\n",
       "    <tr>\n",
       "      <th>4</th>\n",
       "      <td>Uncharted 4: A Thief's End</td>\n",
       "      <td>93</td>\n",
       "    </tr>\n",
       "    <tr>\n",
       "      <th>5</th>\n",
       "      <td>Metal Gear Solid V: The Phantom Pain</td>\n",
       "      <td>93</td>\n",
       "    </tr>\n",
       "    <tr>\n",
       "      <th>6</th>\n",
       "      <td>Undertale</td>\n",
       "      <td>92</td>\n",
       "    </tr>\n",
       "    <tr>\n",
       "      <th>7</th>\n",
       "      <td>The Witcher 3: Wild Hunt</td>\n",
       "      <td>92</td>\n",
       "    </tr>\n",
       "    <tr>\n",
       "      <th>8</th>\n",
       "      <td>Shadow of the Colossus</td>\n",
       "      <td>92</td>\n",
       "    </tr>\n",
       "    <tr>\n",
       "      <th>9</th>\n",
       "      <td>Bloodborne</td>\n",
       "      <td>92</td>\n",
       "    </tr>\n",
       "    <tr>\n",
       "      <th>10</th>\n",
       "      <td>Journey</td>\n",
       "      <td>92</td>\n",
       "    </tr>\n",
       "    <tr>\n",
       "      <th>11</th>\n",
       "      <td>Monster Hunter: World</td>\n",
       "      <td>91</td>\n",
       "    </tr>\n",
       "    <tr>\n",
       "      <th>12</th>\n",
       "      <td>INSIDE</td>\n",
       "      <td>91</td>\n",
       "    </tr>\n",
       "    <tr>\n",
       "      <th>13</th>\n",
       "      <td>The Witcher 3: Wild Hunt - Blood and Wine</td>\n",
       "      <td>91</td>\n",
       "    </tr>\n",
       "    <tr>\n",
       "      <th>14</th>\n",
       "      <td>flower</td>\n",
       "      <td>91</td>\n",
       "    </tr>\n",
       "    <tr>\n",
       "      <th>15</th>\n",
       "      <td>Overwatch</td>\n",
       "      <td>90</td>\n",
       "    </tr>\n",
       "    <tr>\n",
       "      <th>16</th>\n",
       "      <td>Diablo III: Ultimate Evil Edition</td>\n",
       "      <td>90</td>\n",
       "    </tr>\n",
       "    <tr>\n",
       "      <th>17</th>\n",
       "      <td>Shovel Knight</td>\n",
       "      <td>90</td>\n",
       "    </tr>\n",
       "    <tr>\n",
       "      <th>18</th>\n",
       "      <td>Tales From The Borderlands: Episode 5 - The Va...</td>\n",
       "      <td>90</td>\n",
       "    </tr>\n",
       "    <tr>\n",
       "      <th>19</th>\n",
       "      <td>The Witcher 3: Wild Hunt - Hearts of Stone</td>\n",
       "      <td>90</td>\n",
       "    </tr>\n",
       "    <tr>\n",
       "      <th>20</th>\n",
       "      <td>Fez</td>\n",
       "      <td>90</td>\n",
       "    </tr>\n",
       "    <tr>\n",
       "      <th>21</th>\n",
       "      <td>Rayman Legends</td>\n",
       "      <td>90</td>\n",
       "    </tr>\n",
       "  </tbody>\n",
       "</table>\n",
       "</div>"
      ],
      "text/plain": [
       "                                                title  meta_score\n",
       "0                                  Grand Theft Auto V          97\n",
       "1                           The Last of Us Remastered          95\n",
       "2                           XCOM 2: War of the Chosen          94\n",
       "3                                           Persona 5          93\n",
       "4                          Uncharted 4: A Thief's End          93\n",
       "5                Metal Gear Solid V: The Phantom Pain          93\n",
       "6                                           Undertale          92\n",
       "7                            The Witcher 3: Wild Hunt          92\n",
       "8                              Shadow of the Colossus          92\n",
       "9                                          Bloodborne          92\n",
       "10                                            Journey          92\n",
       "11                              Monster Hunter: World          91\n",
       "12                                             INSIDE          91\n",
       "13          The Witcher 3: Wild Hunt - Blood and Wine          91\n",
       "14                                             flower          91\n",
       "15                                          Overwatch          90\n",
       "16                  Diablo III: Ultimate Evil Edition          90\n",
       "17                                      Shovel Knight          90\n",
       "18  Tales From The Borderlands: Episode 5 - The Va...          90\n",
       "19         The Witcher 3: Wild Hunt - Hearts of Stone          90\n",
       "20                                                Fez          90\n",
       "21                                     Rayman Legends          90"
      ]
     },
     "execution_count": 87,
     "metadata": {},
     "output_type": "execute_result"
    }
   ],
   "source": [
    "ps4.loc[ps4['meta_score'] >= 90, ('title', 'meta_score')].sort_values('meta_score', ascending=False).reset_index(drop=True)"
   ]
  },
  {
   "cell_type": "code",
   "execution_count": 90,
   "metadata": {
    "hidden": true
   },
   "outputs": [
    {
     "data": {
      "text/html": [
       "<div>\n",
       "<style>\n",
       "    .dataframe thead tr:only-child th {\n",
       "        text-align: right;\n",
       "    }\n",
       "\n",
       "    .dataframe thead th {\n",
       "        text-align: left;\n",
       "    }\n",
       "\n",
       "    .dataframe tbody tr th {\n",
       "        vertical-align: top;\n",
       "    }\n",
       "</style>\n",
       "<table border=\"1\" class=\"dataframe\">\n",
       "  <thead>\n",
       "    <tr style=\"text-align: right;\">\n",
       "      <th></th>\n",
       "      <th>title</th>\n",
       "      <th>n_user_score</th>\n",
       "    </tr>\n",
       "  </thead>\n",
       "  <tbody>\n",
       "    <tr>\n",
       "      <th>0</th>\n",
       "      <td>Bloodborne: The Old Hunters</td>\n",
       "      <td>93.0</td>\n",
       "    </tr>\n",
       "    <tr>\n",
       "      <th>1</th>\n",
       "      <td>The Witcher 3: Wild Hunt</td>\n",
       "      <td>92.0</td>\n",
       "    </tr>\n",
       "    <tr>\n",
       "      <th>2</th>\n",
       "      <td>Persona 5</td>\n",
       "      <td>91.0</td>\n",
       "    </tr>\n",
       "    <tr>\n",
       "      <th>3</th>\n",
       "      <td>The Last of Us Remastered</td>\n",
       "      <td>91.0</td>\n",
       "    </tr>\n",
       "    <tr>\n",
       "      <th>4</th>\n",
       "      <td>Shadow of the Colossus</td>\n",
       "      <td>90.0</td>\n",
       "    </tr>\n",
       "  </tbody>\n",
       "</table>\n",
       "</div>"
      ],
      "text/plain": [
       "                         title  n_user_score\n",
       "0  Bloodborne: The Old Hunters          93.0\n",
       "1     The Witcher 3: Wild Hunt          92.0\n",
       "2                    Persona 5          91.0\n",
       "3    The Last of Us Remastered          91.0\n",
       "4       Shadow of the Colossus          90.0"
      ]
     },
     "execution_count": 90,
     "metadata": {},
     "output_type": "execute_result"
    }
   ],
   "source": [
    "ps4.loc[ps4['n_user_score'] >= 90, ('title', 'n_user_score')].sort_values('n_user_score', ascending=False).reset_index(drop=True)"
   ]
  },
  {
   "cell_type": "code",
   "execution_count": 88,
   "metadata": {
    "hidden": true
   },
   "outputs": [
    {
     "data": {
      "text/html": [
       "<div>\n",
       "<style>\n",
       "    .dataframe thead tr:only-child th {\n",
       "        text-align: right;\n",
       "    }\n",
       "\n",
       "    .dataframe thead th {\n",
       "        text-align: left;\n",
       "    }\n",
       "\n",
       "    .dataframe tbody tr th {\n",
       "        vertical-align: top;\n",
       "    }\n",
       "</style>\n",
       "<table border=\"1\" class=\"dataframe\">\n",
       "  <thead>\n",
       "    <tr style=\"text-align: right;\">\n",
       "      <th></th>\n",
       "      <th>title</th>\n",
       "      <th>meta_score</th>\n",
       "    </tr>\n",
       "  </thead>\n",
       "  <tbody>\n",
       "    <tr>\n",
       "      <th>0</th>\n",
       "      <td>Grand Theft Auto V</td>\n",
       "      <td>97</td>\n",
       "    </tr>\n",
       "    <tr>\n",
       "      <th>1</th>\n",
       "      <td>Metal Gear Solid V: The Phantom Pain</td>\n",
       "      <td>95</td>\n",
       "    </tr>\n",
       "    <tr>\n",
       "      <th>2</th>\n",
       "      <td>Celeste</td>\n",
       "      <td>94</td>\n",
       "    </tr>\n",
       "    <tr>\n",
       "      <th>3</th>\n",
       "      <td>The Witcher 3: Wild Hunt - Blood and Wine</td>\n",
       "      <td>94</td>\n",
       "    </tr>\n",
       "    <tr>\n",
       "      <th>4</th>\n",
       "      <td>INSIDE</td>\n",
       "      <td>93</td>\n",
       "    </tr>\n",
       "    <tr>\n",
       "      <th>5</th>\n",
       "      <td>Monster Hunter: World</td>\n",
       "      <td>93</td>\n",
       "    </tr>\n",
       "    <tr>\n",
       "      <th>6</th>\n",
       "      <td>The Swapper</td>\n",
       "      <td>92</td>\n",
       "    </tr>\n",
       "    <tr>\n",
       "      <th>7</th>\n",
       "      <td>What Remains of Edith Finch</td>\n",
       "      <td>92</td>\n",
       "    </tr>\n",
       "    <tr>\n",
       "      <th>8</th>\n",
       "      <td>Forza Horizon 3</td>\n",
       "      <td>91</td>\n",
       "    </tr>\n",
       "    <tr>\n",
       "      <th>9</th>\n",
       "      <td>Overwatch</td>\n",
       "      <td>91</td>\n",
       "    </tr>\n",
       "    <tr>\n",
       "      <th>10</th>\n",
       "      <td>Rayman Legends</td>\n",
       "      <td>91</td>\n",
       "    </tr>\n",
       "    <tr>\n",
       "      <th>11</th>\n",
       "      <td>The Witcher 3: Wild Hunt</td>\n",
       "      <td>91</td>\n",
       "    </tr>\n",
       "    <tr>\n",
       "      <th>12</th>\n",
       "      <td>NBA 2K17</td>\n",
       "      <td>90</td>\n",
       "    </tr>\n",
       "    <tr>\n",
       "      <th>13</th>\n",
       "      <td>The Witcher 3: Wild Hunt - Hearts of Stone</td>\n",
       "      <td>90</td>\n",
       "    </tr>\n",
       "  </tbody>\n",
       "</table>\n",
       "</div>"
      ],
      "text/plain": [
       "                                         title  meta_score\n",
       "0                           Grand Theft Auto V          97\n",
       "1         Metal Gear Solid V: The Phantom Pain          95\n",
       "2                                      Celeste          94\n",
       "3    The Witcher 3: Wild Hunt - Blood and Wine          94\n",
       "4                                       INSIDE          93\n",
       "5                        Monster Hunter: World          93\n",
       "6                                  The Swapper          92\n",
       "7                  What Remains of Edith Finch          92\n",
       "8                              Forza Horizon 3          91\n",
       "9                                    Overwatch          91\n",
       "10                              Rayman Legends          91\n",
       "11                    The Witcher 3: Wild Hunt          91\n",
       "12                                    NBA 2K17          90\n",
       "13  The Witcher 3: Wild Hunt - Hearts of Stone          90"
      ]
     },
     "execution_count": 88,
     "metadata": {},
     "output_type": "execute_result"
    }
   ],
   "source": [
    "xone.loc[xone['meta_score'] >= 90, ('title', 'meta_score')].sort_values('meta_score', ascending=False).reset_index(drop=True)"
   ]
  },
  {
   "cell_type": "code",
   "execution_count": 91,
   "metadata": {
    "hidden": true
   },
   "outputs": [
    {
     "data": {
      "text/html": [
       "<div>\n",
       "<style>\n",
       "    .dataframe thead tr:only-child th {\n",
       "        text-align: right;\n",
       "    }\n",
       "\n",
       "    .dataframe thead th {\n",
       "        text-align: left;\n",
       "    }\n",
       "\n",
       "    .dataframe tbody tr th {\n",
       "        vertical-align: top;\n",
       "    }\n",
       "</style>\n",
       "<table border=\"1\" class=\"dataframe\">\n",
       "  <thead>\n",
       "    <tr style=\"text-align: right;\">\n",
       "      <th></th>\n",
       "      <th>title</th>\n",
       "      <th>n_user_score</th>\n",
       "    </tr>\n",
       "  </thead>\n",
       "  <tbody>\n",
       "    <tr>\n",
       "      <th>0</th>\n",
       "      <td>The Witcher 3: Wild Hunt</td>\n",
       "      <td>92.0</td>\n",
       "    </tr>\n",
       "    <tr>\n",
       "      <th>1</th>\n",
       "      <td>The Witcher 3: Wild Hunt - Hearts of Stone</td>\n",
       "      <td>91.0</td>\n",
       "    </tr>\n",
       "  </tbody>\n",
       "</table>\n",
       "</div>"
      ],
      "text/plain": [
       "                                        title  n_user_score\n",
       "0                    The Witcher 3: Wild Hunt          92.0\n",
       "1  The Witcher 3: Wild Hunt - Hearts of Stone          91.0"
      ]
     },
     "execution_count": 91,
     "metadata": {},
     "output_type": "execute_result"
    }
   ],
   "source": [
    "xone.loc[xone['n_user_score'] >= 90, ('title', 'n_user_score')].sort_values('n_user_score', ascending=False).reset_index(drop=True)"
   ]
  },
  {
   "cell_type": "code",
   "execution_count": 96,
   "metadata": {
    "hidden": true
   },
   "outputs": [
    {
     "data": {
      "text/html": [
       "<div>\n",
       "<style>\n",
       "    .dataframe thead tr:only-child th {\n",
       "        text-align: right;\n",
       "    }\n",
       "\n",
       "    .dataframe thead th {\n",
       "        text-align: left;\n",
       "    }\n",
       "\n",
       "    .dataframe tbody tr th {\n",
       "        vertical-align: top;\n",
       "    }\n",
       "</style>\n",
       "<table border=\"1\" class=\"dataframe\">\n",
       "  <thead>\n",
       "    <tr style=\"text-align: right;\">\n",
       "      <th></th>\n",
       "      <th>title</th>\n",
       "      <th>meta_score</th>\n",
       "      <th>n_user_score</th>\n",
       "      <th>dif</th>\n",
       "    </tr>\n",
       "  </thead>\n",
       "  <tbody>\n",
       "    <tr>\n",
       "      <th>0</th>\n",
       "      <td>Grand Theft Auto V</td>\n",
       "      <td>97</td>\n",
       "      <td>83.0</td>\n",
       "      <td>14.0</td>\n",
       "    </tr>\n",
       "    <tr>\n",
       "      <th>1</th>\n",
       "      <td>The Last of Us Remastered</td>\n",
       "      <td>95</td>\n",
       "      <td>91.0</td>\n",
       "      <td>4.0</td>\n",
       "    </tr>\n",
       "    <tr>\n",
       "      <th>2</th>\n",
       "      <td>XCOM 2: War of the Chosen</td>\n",
       "      <td>94</td>\n",
       "      <td>61.0</td>\n",
       "      <td>33.0</td>\n",
       "    </tr>\n",
       "    <tr>\n",
       "      <th>3</th>\n",
       "      <td>Persona 5</td>\n",
       "      <td>93</td>\n",
       "      <td>91.0</td>\n",
       "      <td>2.0</td>\n",
       "    </tr>\n",
       "    <tr>\n",
       "      <th>4</th>\n",
       "      <td>Uncharted 4: A Thief's End</td>\n",
       "      <td>93</td>\n",
       "      <td>83.0</td>\n",
       "      <td>10.0</td>\n",
       "    </tr>\n",
       "    <tr>\n",
       "      <th>5</th>\n",
       "      <td>Metal Gear Solid V: The Phantom Pain</td>\n",
       "      <td>93</td>\n",
       "      <td>82.0</td>\n",
       "      <td>11.0</td>\n",
       "    </tr>\n",
       "    <tr>\n",
       "      <th>6</th>\n",
       "      <td>Undertale</td>\n",
       "      <td>92</td>\n",
       "      <td>64.0</td>\n",
       "      <td>28.0</td>\n",
       "    </tr>\n",
       "    <tr>\n",
       "      <th>7</th>\n",
       "      <td>The Witcher 3: Wild Hunt</td>\n",
       "      <td>92</td>\n",
       "      <td>92.0</td>\n",
       "      <td>0.0</td>\n",
       "    </tr>\n",
       "    <tr>\n",
       "      <th>8</th>\n",
       "      <td>Shadow of the Colossus</td>\n",
       "      <td>92</td>\n",
       "      <td>90.0</td>\n",
       "      <td>2.0</td>\n",
       "    </tr>\n",
       "    <tr>\n",
       "      <th>9</th>\n",
       "      <td>Bloodborne</td>\n",
       "      <td>92</td>\n",
       "      <td>89.0</td>\n",
       "      <td>3.0</td>\n",
       "    </tr>\n",
       "    <tr>\n",
       "      <th>10</th>\n",
       "      <td>Journey</td>\n",
       "      <td>92</td>\n",
       "      <td>84.0</td>\n",
       "      <td>8.0</td>\n",
       "    </tr>\n",
       "    <tr>\n",
       "      <th>11</th>\n",
       "      <td>Monster Hunter: World</td>\n",
       "      <td>91</td>\n",
       "      <td>80.0</td>\n",
       "      <td>11.0</td>\n",
       "    </tr>\n",
       "    <tr>\n",
       "      <th>12</th>\n",
       "      <td>INSIDE</td>\n",
       "      <td>91</td>\n",
       "      <td>83.0</td>\n",
       "      <td>8.0</td>\n",
       "    </tr>\n",
       "    <tr>\n",
       "      <th>13</th>\n",
       "      <td>The Witcher 3: Wild Hunt - Blood and Wine</td>\n",
       "      <td>91</td>\n",
       "      <td>88.0</td>\n",
       "      <td>3.0</td>\n",
       "    </tr>\n",
       "    <tr>\n",
       "      <th>14</th>\n",
       "      <td>flower</td>\n",
       "      <td>91</td>\n",
       "      <td>73.0</td>\n",
       "      <td>18.0</td>\n",
       "    </tr>\n",
       "    <tr>\n",
       "      <th>15</th>\n",
       "      <td>Overwatch</td>\n",
       "      <td>90</td>\n",
       "      <td>63.0</td>\n",
       "      <td>27.0</td>\n",
       "    </tr>\n",
       "    <tr>\n",
       "      <th>16</th>\n",
       "      <td>Diablo III: Ultimate Evil Edition</td>\n",
       "      <td>90</td>\n",
       "      <td>80.0</td>\n",
       "      <td>10.0</td>\n",
       "    </tr>\n",
       "    <tr>\n",
       "      <th>17</th>\n",
       "      <td>Shovel Knight</td>\n",
       "      <td>90</td>\n",
       "      <td>77.0</td>\n",
       "      <td>13.0</td>\n",
       "    </tr>\n",
       "    <tr>\n",
       "      <th>18</th>\n",
       "      <td>Tales From The Borderlands: Episode 5 - The Va...</td>\n",
       "      <td>90</td>\n",
       "      <td>82.0</td>\n",
       "      <td>8.0</td>\n",
       "    </tr>\n",
       "    <tr>\n",
       "      <th>19</th>\n",
       "      <td>The Witcher 3: Wild Hunt - Hearts of Stone</td>\n",
       "      <td>90</td>\n",
       "      <td>87.0</td>\n",
       "      <td>3.0</td>\n",
       "    </tr>\n",
       "    <tr>\n",
       "      <th>20</th>\n",
       "      <td>Fez</td>\n",
       "      <td>90</td>\n",
       "      <td>63.0</td>\n",
       "      <td>27.0</td>\n",
       "    </tr>\n",
       "    <tr>\n",
       "      <th>21</th>\n",
       "      <td>Rayman Legends</td>\n",
       "      <td>90</td>\n",
       "      <td>85.0</td>\n",
       "      <td>5.0</td>\n",
       "    </tr>\n",
       "  </tbody>\n",
       "</table>\n",
       "</div>"
      ],
      "text/plain": [
       "                                                title  meta_score  \\\n",
       "0                                  Grand Theft Auto V          97   \n",
       "1                           The Last of Us Remastered          95   \n",
       "2                           XCOM 2: War of the Chosen          94   \n",
       "3                                           Persona 5          93   \n",
       "4                          Uncharted 4: A Thief's End          93   \n",
       "5                Metal Gear Solid V: The Phantom Pain          93   \n",
       "6                                           Undertale          92   \n",
       "7                            The Witcher 3: Wild Hunt          92   \n",
       "8                              Shadow of the Colossus          92   \n",
       "9                                          Bloodborne          92   \n",
       "10                                            Journey          92   \n",
       "11                              Monster Hunter: World          91   \n",
       "12                                             INSIDE          91   \n",
       "13          The Witcher 3: Wild Hunt - Blood and Wine          91   \n",
       "14                                             flower          91   \n",
       "15                                          Overwatch          90   \n",
       "16                  Diablo III: Ultimate Evil Edition          90   \n",
       "17                                      Shovel Knight          90   \n",
       "18  Tales From The Borderlands: Episode 5 - The Va...          90   \n",
       "19         The Witcher 3: Wild Hunt - Hearts of Stone          90   \n",
       "20                                                Fez          90   \n",
       "21                                     Rayman Legends          90   \n",
       "\n",
       "    n_user_score   dif  \n",
       "0           83.0  14.0  \n",
       "1           91.0   4.0  \n",
       "2           61.0  33.0  \n",
       "3           91.0   2.0  \n",
       "4           83.0  10.0  \n",
       "5           82.0  11.0  \n",
       "6           64.0  28.0  \n",
       "7           92.0   0.0  \n",
       "8           90.0   2.0  \n",
       "9           89.0   3.0  \n",
       "10          84.0   8.0  \n",
       "11          80.0  11.0  \n",
       "12          83.0   8.0  \n",
       "13          88.0   3.0  \n",
       "14          73.0  18.0  \n",
       "15          63.0  27.0  \n",
       "16          80.0  10.0  \n",
       "17          77.0  13.0  \n",
       "18          82.0   8.0  \n",
       "19          87.0   3.0  \n",
       "20          63.0  27.0  \n",
       "21          85.0   5.0  "
      ]
     },
     "execution_count": 96,
     "metadata": {},
     "output_type": "execute_result"
    }
   ],
   "source": [
    "ps4.loc[ps4['meta_score'] >= 90, ('title', 'meta_score', 'n_user_score', 'dif')].sort_values('meta_score', ascending=False).reset_index(drop=True)"
   ]
  },
  {
   "cell_type": "code",
   "execution_count": 99,
   "metadata": {
    "hidden": true
   },
   "outputs": [
    {
     "data": {
      "text/html": [
       "<div>\n",
       "<style>\n",
       "    .dataframe thead tr:only-child th {\n",
       "        text-align: right;\n",
       "    }\n",
       "\n",
       "    .dataframe thead th {\n",
       "        text-align: left;\n",
       "    }\n",
       "\n",
       "    .dataframe tbody tr th {\n",
       "        vertical-align: top;\n",
       "    }\n",
       "</style>\n",
       "<table border=\"1\" class=\"dataframe\">\n",
       "  <thead>\n",
       "    <tr style=\"text-align: right;\">\n",
       "      <th></th>\n",
       "      <th>title</th>\n",
       "      <th>meta_score</th>\n",
       "      <th>n_user_score</th>\n",
       "      <th>dif</th>\n",
       "    </tr>\n",
       "  </thead>\n",
       "  <tbody>\n",
       "    <tr>\n",
       "      <th>0</th>\n",
       "      <td>NBA 2K18</td>\n",
       "      <td>80</td>\n",
       "      <td>16.0</td>\n",
       "      <td>64.0</td>\n",
       "    </tr>\n",
       "    <tr>\n",
       "      <th>1</th>\n",
       "      <td>Star Wars Battlefront II</td>\n",
       "      <td>68</td>\n",
       "      <td>10.0</td>\n",
       "      <td>58.0</td>\n",
       "    </tr>\n",
       "    <tr>\n",
       "      <th>2</th>\n",
       "      <td>Call of Duty: Infinite Warfare - Sabotage</td>\n",
       "      <td>76</td>\n",
       "      <td>18.0</td>\n",
       "      <td>58.0</td>\n",
       "    </tr>\n",
       "    <tr>\n",
       "      <th>3</th>\n",
       "      <td>Pinball FX 2: Star Wars Pinball - Rogue One</td>\n",
       "      <td>74</td>\n",
       "      <td>22.0</td>\n",
       "      <td>52.0</td>\n",
       "    </tr>\n",
       "    <tr>\n",
       "      <th>4</th>\n",
       "      <td>Call of Duty: Infinite Warfare - Continuum</td>\n",
       "      <td>75</td>\n",
       "      <td>25.0</td>\n",
       "      <td>50.0</td>\n",
       "    </tr>\n",
       "    <tr>\n",
       "      <th>5</th>\n",
       "      <td>Super Rude Bear Resurrection</td>\n",
       "      <td>78</td>\n",
       "      <td>28.0</td>\n",
       "      <td>50.0</td>\n",
       "    </tr>\n",
       "    <tr>\n",
       "      <th>6</th>\n",
       "      <td>FIFA 18</td>\n",
       "      <td>84</td>\n",
       "      <td>34.0</td>\n",
       "      <td>50.0</td>\n",
       "    </tr>\n",
       "    <tr>\n",
       "      <th>7</th>\n",
       "      <td>Call of Duty: WWII - The Resistance</td>\n",
       "      <td>73</td>\n",
       "      <td>24.0</td>\n",
       "      <td>49.0</td>\n",
       "    </tr>\n",
       "    <tr>\n",
       "      <th>8</th>\n",
       "      <td>Call of Duty: Black Ops III - Salvation</td>\n",
       "      <td>74</td>\n",
       "      <td>27.0</td>\n",
       "      <td>47.0</td>\n",
       "    </tr>\n",
       "    <tr>\n",
       "      <th>9</th>\n",
       "      <td>Chime Sharp</td>\n",
       "      <td>76</td>\n",
       "      <td>29.0</td>\n",
       "      <td>47.0</td>\n",
       "    </tr>\n",
       "    <tr>\n",
       "      <th>10</th>\n",
       "      <td>Madden NFL 18</td>\n",
       "      <td>82</td>\n",
       "      <td>38.0</td>\n",
       "      <td>44.0</td>\n",
       "    </tr>\n",
       "    <tr>\n",
       "      <th>11</th>\n",
       "      <td>Middle-earth: Shadow of War</td>\n",
       "      <td>80</td>\n",
       "      <td>36.0</td>\n",
       "      <td>44.0</td>\n",
       "    </tr>\n",
       "    <tr>\n",
       "      <th>12</th>\n",
       "      <td>Flywrench</td>\n",
       "      <td>78</td>\n",
       "      <td>35.0</td>\n",
       "      <td>43.0</td>\n",
       "    </tr>\n",
       "    <tr>\n",
       "      <th>13</th>\n",
       "      <td>Skylanders SuperChargers</td>\n",
       "      <td>81</td>\n",
       "      <td>38.0</td>\n",
       "      <td>43.0</td>\n",
       "    </tr>\n",
       "    <tr>\n",
       "      <th>14</th>\n",
       "      <td>2064: Read Only Memories</td>\n",
       "      <td>76</td>\n",
       "      <td>33.0</td>\n",
       "      <td>43.0</td>\n",
       "    </tr>\n",
       "    <tr>\n",
       "      <th>15</th>\n",
       "      <td>Destiny 2: Curse of Osiris</td>\n",
       "      <td>57</td>\n",
       "      <td>14.0</td>\n",
       "      <td>43.0</td>\n",
       "    </tr>\n",
       "    <tr>\n",
       "      <th>16</th>\n",
       "      <td>MotoGP 17</td>\n",
       "      <td>68</td>\n",
       "      <td>25.0</td>\n",
       "      <td>43.0</td>\n",
       "    </tr>\n",
       "    <tr>\n",
       "      <th>17</th>\n",
       "      <td>Street Fighter V</td>\n",
       "      <td>77</td>\n",
       "      <td>36.0</td>\n",
       "      <td>41.0</td>\n",
       "    </tr>\n",
       "    <tr>\n",
       "      <th>18</th>\n",
       "      <td>Aaru's Awakening</td>\n",
       "      <td>59</td>\n",
       "      <td>18.0</td>\n",
       "      <td>41.0</td>\n",
       "    </tr>\n",
       "    <tr>\n",
       "      <th>19</th>\n",
       "      <td>Call of Duty: Ghosts</td>\n",
       "      <td>78</td>\n",
       "      <td>37.0</td>\n",
       "      <td>41.0</td>\n",
       "    </tr>\n",
       "  </tbody>\n",
       "</table>\n",
       "</div>"
      ],
      "text/plain": [
       "                                          title  meta_score  n_user_score  \\\n",
       "0                                      NBA 2K18          80          16.0   \n",
       "1                      Star Wars Battlefront II          68          10.0   \n",
       "2     Call of Duty: Infinite Warfare - Sabotage          76          18.0   \n",
       "3   Pinball FX 2: Star Wars Pinball - Rogue One          74          22.0   \n",
       "4    Call of Duty: Infinite Warfare - Continuum          75          25.0   \n",
       "5                  Super Rude Bear Resurrection          78          28.0   \n",
       "6                                       FIFA 18          84          34.0   \n",
       "7           Call of Duty: WWII - The Resistance          73          24.0   \n",
       "8       Call of Duty: Black Ops III - Salvation          74          27.0   \n",
       "9                                   Chime Sharp          76          29.0   \n",
       "10                                Madden NFL 18          82          38.0   \n",
       "11                  Middle-earth: Shadow of War          80          36.0   \n",
       "12                                    Flywrench          78          35.0   \n",
       "13                     Skylanders SuperChargers          81          38.0   \n",
       "14                     2064: Read Only Memories          76          33.0   \n",
       "15                   Destiny 2: Curse of Osiris          57          14.0   \n",
       "16                                    MotoGP 17          68          25.0   \n",
       "17                             Street Fighter V          77          36.0   \n",
       "18                             Aaru's Awakening          59          18.0   \n",
       "19                         Call of Duty: Ghosts          78          37.0   \n",
       "\n",
       "     dif  \n",
       "0   64.0  \n",
       "1   58.0  \n",
       "2   58.0  \n",
       "3   52.0  \n",
       "4   50.0  \n",
       "5   50.0  \n",
       "6   50.0  \n",
       "7   49.0  \n",
       "8   47.0  \n",
       "9   47.0  \n",
       "10  44.0  \n",
       "11  44.0  \n",
       "12  43.0  \n",
       "13  43.0  \n",
       "14  43.0  \n",
       "15  43.0  \n",
       "16  43.0  \n",
       "17  41.0  \n",
       "18  41.0  \n",
       "19  41.0  "
      ]
     },
     "execution_count": 99,
     "metadata": {},
     "output_type": "execute_result"
    }
   ],
   "source": [
    "ps4.sort_values('dif', ascending=False)[:20][['title', 'meta_score', 'n_user_score', 'dif']].reset_index(drop=True)"
   ]
  },
  {
   "cell_type": "code",
   "execution_count": 150,
   "metadata": {
    "hidden": true
   },
   "outputs": [
    {
     "data": {
      "text/html": [
       "<div>\n",
       "<style>\n",
       "    .dataframe thead tr:only-child th {\n",
       "        text-align: right;\n",
       "    }\n",
       "\n",
       "    .dataframe thead th {\n",
       "        text-align: left;\n",
       "    }\n",
       "\n",
       "    .dataframe tbody tr th {\n",
       "        vertical-align: top;\n",
       "    }\n",
       "</style>\n",
       "<table border=\"1\" class=\"dataframe\">\n",
       "  <thead>\n",
       "    <tr style=\"text-align: right;\">\n",
       "      <th></th>\n",
       "      <th>title</th>\n",
       "      <th>n_user_score</th>\n",
       "      <th>meta_score</th>\n",
       "      <th>dif</th>\n",
       "    </tr>\n",
       "  </thead>\n",
       "  <tbody>\n",
       "    <tr>\n",
       "      <th>0</th>\n",
       "      <td>Bloodborne: The Old Hunters</td>\n",
       "      <td>93.0</td>\n",
       "      <td>87</td>\n",
       "      <td>-6.0</td>\n",
       "    </tr>\n",
       "    <tr>\n",
       "      <th>1</th>\n",
       "      <td>The Witcher 3: Wild Hunt</td>\n",
       "      <td>92.0</td>\n",
       "      <td>92</td>\n",
       "      <td>0.0</td>\n",
       "    </tr>\n",
       "    <tr>\n",
       "      <th>2</th>\n",
       "      <td>Persona 5</td>\n",
       "      <td>91.0</td>\n",
       "      <td>93</td>\n",
       "      <td>2.0</td>\n",
       "    </tr>\n",
       "    <tr>\n",
       "      <th>3</th>\n",
       "      <td>The Last of Us Remastered</td>\n",
       "      <td>91.0</td>\n",
       "      <td>95</td>\n",
       "      <td>4.0</td>\n",
       "    </tr>\n",
       "    <tr>\n",
       "      <th>4</th>\n",
       "      <td>Shadow of the Colossus</td>\n",
       "      <td>90.0</td>\n",
       "      <td>92</td>\n",
       "      <td>2.0</td>\n",
       "    </tr>\n",
       "    <tr>\n",
       "      <th>5</th>\n",
       "      <td>Bloodborne</td>\n",
       "      <td>89.0</td>\n",
       "      <td>92</td>\n",
       "      <td>3.0</td>\n",
       "    </tr>\n",
       "    <tr>\n",
       "      <th>6</th>\n",
       "      <td>AO Tennis</td>\n",
       "      <td>89.0</td>\n",
       "      <td>44</td>\n",
       "      <td>-45.0</td>\n",
       "    </tr>\n",
       "    <tr>\n",
       "      <th>7</th>\n",
       "      <td>Dark Souls III</td>\n",
       "      <td>89.0</td>\n",
       "      <td>89</td>\n",
       "      <td>0.0</td>\n",
       "    </tr>\n",
       "    <tr>\n",
       "      <th>8</th>\n",
       "      <td>Okami HD</td>\n",
       "      <td>88.0</td>\n",
       "      <td>88</td>\n",
       "      <td>0.0</td>\n",
       "    </tr>\n",
       "    <tr>\n",
       "      <th>9</th>\n",
       "      <td>NieR: Automata</td>\n",
       "      <td>88.0</td>\n",
       "      <td>88</td>\n",
       "      <td>0.0</td>\n",
       "    </tr>\n",
       "    <tr>\n",
       "      <th>10</th>\n",
       "      <td>The Witcher 3: Wild Hunt - Blood and Wine</td>\n",
       "      <td>88.0</td>\n",
       "      <td>91</td>\n",
       "      <td>3.0</td>\n",
       "    </tr>\n",
       "    <tr>\n",
       "      <th>11</th>\n",
       "      <td>Yakuza 0</td>\n",
       "      <td>88.0</td>\n",
       "      <td>85</td>\n",
       "      <td>-3.0</td>\n",
       "    </tr>\n",
       "    <tr>\n",
       "      <th>12</th>\n",
       "      <td>Sonic Mania</td>\n",
       "      <td>87.0</td>\n",
       "      <td>86</td>\n",
       "      <td>-1.0</td>\n",
       "    </tr>\n",
       "    <tr>\n",
       "      <th>13</th>\n",
       "      <td>The Evil Within 2</td>\n",
       "      <td>87.0</td>\n",
       "      <td>76</td>\n",
       "      <td>-11.0</td>\n",
       "    </tr>\n",
       "    <tr>\n",
       "      <th>14</th>\n",
       "      <td>Crash Bandicoot N. Sane Trilogy</td>\n",
       "      <td>87.0</td>\n",
       "      <td>80</td>\n",
       "      <td>-7.0</td>\n",
       "    </tr>\n",
       "    <tr>\n",
       "      <th>15</th>\n",
       "      <td>The Witcher 3: Wild Hunt - Hearts of Stone</td>\n",
       "      <td>87.0</td>\n",
       "      <td>90</td>\n",
       "      <td>3.0</td>\n",
       "    </tr>\n",
       "    <tr>\n",
       "      <th>16</th>\n",
       "      <td>Wipeout: Omega Collection</td>\n",
       "      <td>87.0</td>\n",
       "      <td>85</td>\n",
       "      <td>-2.0</td>\n",
       "    </tr>\n",
       "  </tbody>\n",
       "</table>\n",
       "</div>"
      ],
      "text/plain": [
       "                                         title  n_user_score  meta_score   dif\n",
       "0                  Bloodborne: The Old Hunters          93.0          87  -6.0\n",
       "1                     The Witcher 3: Wild Hunt          92.0          92   0.0\n",
       "2                                    Persona 5          91.0          93   2.0\n",
       "3                    The Last of Us Remastered          91.0          95   4.0\n",
       "4                       Shadow of the Colossus          90.0          92   2.0\n",
       "5                                   Bloodborne          89.0          92   3.0\n",
       "6                                    AO Tennis          89.0          44 -45.0\n",
       "7                               Dark Souls III          89.0          89   0.0\n",
       "8                                     Okami HD          88.0          88   0.0\n",
       "9                               NieR: Automata          88.0          88   0.0\n",
       "10   The Witcher 3: Wild Hunt - Blood and Wine          88.0          91   3.0\n",
       "11                                    Yakuza 0          88.0          85  -3.0\n",
       "12                                 Sonic Mania          87.0          86  -1.0\n",
       "13                           The Evil Within 2          87.0          76 -11.0\n",
       "14             Crash Bandicoot N. Sane Trilogy          87.0          80  -7.0\n",
       "15  The Witcher 3: Wild Hunt - Hearts of Stone          87.0          90   3.0\n",
       "16                   Wipeout: Omega Collection          87.0          85  -2.0"
      ]
     },
     "execution_count": 150,
     "metadata": {},
     "output_type": "execute_result"
    }
   ],
   "source": [
    "ps4.loc[ps4['n_user_score'] > 86, ('title', 'n_user_score', 'meta_score', 'dif')].sort_values('n_user_score', ascending=False).reset_index(drop=True)"
   ]
  },
  {
   "cell_type": "code",
   "execution_count": 144,
   "metadata": {
    "hidden": true
   },
   "outputs": [
    {
     "data": {
      "image/png": "[encoded data removed]",
      "text/plain": [
       "<matplotlib.figure.Figure at 0x7efd1afc1518>"
      ]
     },
     "metadata": {},
     "output_type": "display_data"
    }
   ],
   "source": [
    "tmp.loc[(tmp['year'] > 2013) & (tmp['platform'] != 'Switch')].groupby(['platform', 'year'])['n_user_score'].mean().unstack().transpose().plot(figsize=(12, 6), xticks=np.arange(2014, 2019, 1), yticks=np.arange(60, 74, 2));"
   ]
  },
  {
   "cell_type": "code",
   "execution_count": 143,
   "metadata": {
    "hidden": true
   },
   "outputs": [
    {
     "data": {
      "image/png": "[encoded data removed]",
      "text/plain": [
       "<matplotlib.figure.Figure at 0x7efd200c62e8>"
      ]
     },
     "metadata": {},
     "output_type": "display_data"
    }
   ],
   "source": [
    "ps4.loc[ps4['year'] > 2013].groupby('year')[['meta_score', 'n_user_score']].mean().plot(figsize=(12, 6), xticks=np.arange(2014, 2019, 1));"
   ]
  },
  {
   "cell_type": "code",
   "execution_count": 139,
   "metadata": {
    "hidden": true
   },
   "outputs": [
    {
     "data": {
      "image/png": "[encoded data removed]",
      "text/plain": [
       "<matplotlib.figure.Figure at 0x7efd1b1195f8>"
      ]
     },
     "metadata": {},
     "output_type": "display_data"
    }
   ],
   "source": [
    "xone.loc[(xone['year'] > 2013)].groupby('year')[['meta_score', 'n_user_score']].mean().plot(figsize=(12, 6), xticks=np.arange(2014, 2019, 1));"
   ]
  },
  {
   "cell_type": "markdown",
   "metadata": {
    "heading_collapsed": true
   },
   "source": [
    "### Developers"
   ]
  },
  {
   "cell_type": "code",
   "execution_count": 177,
   "metadata": {
    "hidden": true
   },
   "outputs": [
    {
     "data": {
      "text/plain": [
       "developer\n",
       "Telltale Games      48\n",
       "Capcom              28\n",
       "EA Sports           17\n",
       "Omega Force         16\n",
       "Square Enix         16\n",
       "Zen Studios         16\n",
       "Ubisoft Montreal    14\n",
       "TT Games            11\n",
       "Io Interactive       8\n",
       "Arc System Works     8\n",
       "Name: title, dtype: int64"
      ]
     },
     "execution_count": 177,
     "metadata": {},
     "output_type": "execute_result"
    }
   ],
   "source": [
    "ps4.groupby('developer')['title'].count().sort_values(ascending=False)[:10]"
   ]
  },
  {
   "cell_type": "code",
   "execution_count": 202,
   "metadata": {
    "hidden": true
   },
   "outputs": [],
   "source": [
    "dev = pd.concat([ps4.groupby('developer')['title'].count(), ps4.groupby('developer')['n_user_score'].mean(), ps4.groupby('developer')['meta_score'].mean()], axis=1)"
   ]
  },
  {
   "cell_type": "code",
   "execution_count": 203,
   "metadata": {
    "hidden": true
   },
   "outputs": [],
   "source": [
    "dev.columns = ['count', 'n_user_score_avg', 'meta_score_avg']"
   ]
  },
  {
   "cell_type": "code",
   "execution_count": 204,
   "metadata": {
    "hidden": true
   },
   "outputs": [
    {
     "data": {
      "text/html": [
       "<div>\n",
       "<style>\n",
       "    .dataframe thead tr:only-child th {\n",
       "        text-align: right;\n",
       "    }\n",
       "\n",
       "    .dataframe thead th {\n",
       "        text-align: left;\n",
       "    }\n",
       "\n",
       "    .dataframe tbody tr th {\n",
       "        vertical-align: top;\n",
       "    }\n",
       "</style>\n",
       "<table border=\"1\" class=\"dataframe\">\n",
       "  <thead>\n",
       "    <tr style=\"text-align: right;\">\n",
       "      <th></th>\n",
       "      <th>count</th>\n",
       "      <th>n_user_score_avg</th>\n",
       "      <th>meta_score_avg</th>\n",
       "    </tr>\n",
       "    <tr>\n",
       "      <th>developer</th>\n",
       "      <th></th>\n",
       "      <th></th>\n",
       "      <th></th>\n",
       "    </tr>\n",
       "  </thead>\n",
       "  <tbody>\n",
       "    <tr>\n",
       "      <th>Telltale Games</th>\n",
       "      <td>48</td>\n",
       "      <td>62.645833</td>\n",
       "      <td>72.895833</td>\n",
       "    </tr>\n",
       "    <tr>\n",
       "      <th>Capcom</th>\n",
       "      <td>28</td>\n",
       "      <td>69.357143</td>\n",
       "      <td>74.785714</td>\n",
       "    </tr>\n",
       "    <tr>\n",
       "      <th>EA Sports</th>\n",
       "      <td>17</td>\n",
       "      <td>49.058824</td>\n",
       "      <td>73.352941</td>\n",
       "    </tr>\n",
       "    <tr>\n",
       "      <th>Zen Studios</th>\n",
       "      <td>16</td>\n",
       "      <td>56.000000</td>\n",
       "      <td>79.125000</td>\n",
       "    </tr>\n",
       "    <tr>\n",
       "      <th>Omega Force</th>\n",
       "      <td>16</td>\n",
       "      <td>70.937500</td>\n",
       "      <td>71.062500</td>\n",
       "    </tr>\n",
       "    <tr>\n",
       "      <th>Square Enix</th>\n",
       "      <td>16</td>\n",
       "      <td>68.687500</td>\n",
       "      <td>75.937500</td>\n",
       "    </tr>\n",
       "    <tr>\n",
       "      <th>Ubisoft Montreal</th>\n",
       "      <td>14</td>\n",
       "      <td>70.642857</td>\n",
       "      <td>74.785714</td>\n",
       "    </tr>\n",
       "    <tr>\n",
       "      <th>TT Games</th>\n",
       "      <td>11</td>\n",
       "      <td>71.818182</td>\n",
       "      <td>72.818182</td>\n",
       "    </tr>\n",
       "    <tr>\n",
       "      <th>Arc System Works</th>\n",
       "      <td>8</td>\n",
       "      <td>76.500000</td>\n",
       "      <td>77.625000</td>\n",
       "    </tr>\n",
       "    <tr>\n",
       "      <th>Io Interactive</th>\n",
       "      <td>8</td>\n",
       "      <td>69.750000</td>\n",
       "      <td>77.625000</td>\n",
       "    </tr>\n",
       "  </tbody>\n",
       "</table>\n",
       "</div>"
      ],
      "text/plain": [
       "                  count  n_user_score_avg  meta_score_avg\n",
       "developer                                                \n",
       "Telltale Games       48         62.645833       72.895833\n",
       "Capcom               28         69.357143       74.785714\n",
       "EA Sports            17         49.058824       73.352941\n",
       "Zen Studios          16         56.000000       79.125000\n",
       "Omega Force          16         70.937500       71.062500\n",
       "Square Enix          16         68.687500       75.937500\n",
       "Ubisoft Montreal     14         70.642857       74.785714\n",
       "TT Games             11         71.818182       72.818182\n",
       "Arc System Works      8         76.500000       77.625000\n",
       "Io Interactive        8         69.750000       77.625000"
      ]
     },
     "execution_count": 204,
     "metadata": {},
     "output_type": "execute_result"
    }
   ],
   "source": [
    "dev.sort_values('count', ascending=False)[:10]"
   ]
  },
  {
   "cell_type": "code",
   "execution_count": 205,
   "metadata": {
    "hidden": true
   },
   "outputs": [
    {
     "data": {
      "text/html": [
       "<div>\n",
       "<style>\n",
       "    .dataframe thead tr:only-child th {\n",
       "        text-align: right;\n",
       "    }\n",
       "\n",
       "    .dataframe thead th {\n",
       "        text-align: left;\n",
       "    }\n",
       "\n",
       "    .dataframe tbody tr th {\n",
       "        vertical-align: top;\n",
       "    }\n",
       "</style>\n",
       "<table border=\"1\" class=\"dataframe\">\n",
       "  <thead>\n",
       "    <tr style=\"text-align: right;\">\n",
       "      <th></th>\n",
       "      <th>count</th>\n",
       "      <th>n_user_score_avg</th>\n",
       "      <th>meta_score_avg</th>\n",
       "    </tr>\n",
       "    <tr>\n",
       "      <th>developer</th>\n",
       "      <th></th>\n",
       "      <th></th>\n",
       "      <th></th>\n",
       "    </tr>\n",
       "  </thead>\n",
       "  <tbody>\n",
       "    <tr>\n",
       "      <th>Atlus</th>\n",
       "      <td>1</td>\n",
       "      <td>91.000000</td>\n",
       "      <td>93.000000</td>\n",
       "    </tr>\n",
       "    <tr>\n",
       "      <th>Bluepoint Games, SCE Japan Studio</th>\n",
       "      <td>1</td>\n",
       "      <td>90.000000</td>\n",
       "      <td>92.000000</td>\n",
       "    </tr>\n",
       "    <tr>\n",
       "      <th>CD Projekt Red Studio</th>\n",
       "      <td>3</td>\n",
       "      <td>89.000000</td>\n",
       "      <td>91.000000</td>\n",
       "    </tr>\n",
       "    <tr>\n",
       "      <th>Ryu ga Gotoku Studios</th>\n",
       "      <td>2</td>\n",
       "      <td>87.000000</td>\n",
       "      <td>82.500000</td>\n",
       "    </tr>\n",
       "    <tr>\n",
       "      <th>SegaSoft, Sega, PagodaWest Games</th>\n",
       "      <td>1</td>\n",
       "      <td>87.000000</td>\n",
       "      <td>86.000000</td>\n",
       "    </tr>\n",
       "    <tr>\n",
       "      <th>2K Games</th>\n",
       "      <td>1</td>\n",
       "      <td>86.000000</td>\n",
       "      <td>84.000000</td>\n",
       "    </tr>\n",
       "    <tr>\n",
       "      <th>Psyonix, Panic Button</th>\n",
       "      <td>1</td>\n",
       "      <td>86.000000</td>\n",
       "      <td>85.000000</td>\n",
       "    </tr>\n",
       "    <tr>\n",
       "      <th>YummyYummyTummy</th>\n",
       "      <td>1</td>\n",
       "      <td>85.000000</td>\n",
       "      <td>64.000000</td>\n",
       "    </tr>\n",
       "    <tr>\n",
       "      <th>Naughty Dog</th>\n",
       "      <td>3</td>\n",
       "      <td>84.666667</td>\n",
       "      <td>90.666667</td>\n",
       "    </tr>\n",
       "    <tr>\n",
       "      <th>Tricky Pixels</th>\n",
       "      <td>1</td>\n",
       "      <td>84.000000</td>\n",
       "      <td>92.000000</td>\n",
       "    </tr>\n",
       "  </tbody>\n",
       "</table>\n",
       "</div>"
      ],
      "text/plain": [
       "                                   count  n_user_score_avg  meta_score_avg\n",
       "developer                                                                 \n",
       "Atlus                                  1         91.000000       93.000000\n",
       "Bluepoint Games, SCE Japan Studio      1         90.000000       92.000000\n",
       "CD Projekt Red Studio                  3         89.000000       91.000000\n",
       "Ryu ga Gotoku Studios                  2         87.000000       82.500000\n",
       "SegaSoft, Sega, PagodaWest Games       1         87.000000       86.000000\n",
       "2K Games                               1         86.000000       84.000000\n",
       "Psyonix, Panic Button                  1         86.000000       85.000000\n",
       "YummyYummyTummy                        1         85.000000       64.000000\n",
       "Naughty Dog                            3         84.666667       90.666667\n",
       "Tricky Pixels                          1         84.000000       92.000000"
      ]
     },
     "execution_count": 205,
     "metadata": {},
     "output_type": "execute_result"
    }
   ],
   "source": [
    "dev.sort_values('n_user_score_avg', ascending=False)[:10]"
   ]
  },
  {
   "cell_type": "code",
   "execution_count": 206,
   "metadata": {
    "hidden": true
   },
   "outputs": [
    {
     "data": {
      "text/html": [
       "<div>\n",
       "<style>\n",
       "    .dataframe thead tr:only-child th {\n",
       "        text-align: right;\n",
       "    }\n",
       "\n",
       "    .dataframe thead th {\n",
       "        text-align: left;\n",
       "    }\n",
       "\n",
       "    .dataframe tbody tr th {\n",
       "        vertical-align: top;\n",
       "    }\n",
       "</style>\n",
       "<table border=\"1\" class=\"dataframe\">\n",
       "  <thead>\n",
       "    <tr style=\"text-align: right;\">\n",
       "      <th></th>\n",
       "      <th>count</th>\n",
       "      <th>n_user_score_avg</th>\n",
       "      <th>meta_score_avg</th>\n",
       "    </tr>\n",
       "    <tr>\n",
       "      <th>developer</th>\n",
       "      <th></th>\n",
       "      <th></th>\n",
       "      <th></th>\n",
       "    </tr>\n",
       "  </thead>\n",
       "  <tbody>\n",
       "    <tr>\n",
       "      <th>From Software</th>\n",
       "      <td>6</td>\n",
       "      <td>83.833333</td>\n",
       "      <td>84.666667</td>\n",
       "    </tr>\n",
       "    <tr>\n",
       "      <th>DONTNOD Entertainment</th>\n",
       "      <td>6</td>\n",
       "      <td>83.500000</td>\n",
       "      <td>80.166667</td>\n",
       "    </tr>\n",
       "    <tr>\n",
       "      <th>Spike Chunsoft</th>\n",
       "      <td>6</td>\n",
       "      <td>78.333333</td>\n",
       "      <td>77.000000</td>\n",
       "    </tr>\n",
       "    <tr>\n",
       "      <th>Arc System Works</th>\n",
       "      <td>8</td>\n",
       "      <td>76.500000</td>\n",
       "      <td>77.625000</td>\n",
       "    </tr>\n",
       "    <tr>\n",
       "      <th>CyberConnect2</th>\n",
       "      <td>5</td>\n",
       "      <td>76.400000</td>\n",
       "      <td>71.200000</td>\n",
       "    </tr>\n",
       "    <tr>\n",
       "      <th>SuperMassive Games</th>\n",
       "      <td>5</td>\n",
       "      <td>75.000000</td>\n",
       "      <td>69.200000</td>\n",
       "    </tr>\n",
       "    <tr>\n",
       "      <th>Tango Gameworks</th>\n",
       "      <td>5</td>\n",
       "      <td>74.800000</td>\n",
       "      <td>73.000000</td>\n",
       "    </tr>\n",
       "    <tr>\n",
       "      <th>Koei Tecmo Games</th>\n",
       "      <td>7</td>\n",
       "      <td>74.428571</td>\n",
       "      <td>73.571429</td>\n",
       "    </tr>\n",
       "    <tr>\n",
       "      <th>SCE Japan Studio</th>\n",
       "      <td>5</td>\n",
       "      <td>73.400000</td>\n",
       "      <td>72.800000</td>\n",
       "    </tr>\n",
       "    <tr>\n",
       "      <th>Konami</th>\n",
       "      <td>6</td>\n",
       "      <td>72.833333</td>\n",
       "      <td>80.666667</td>\n",
       "    </tr>\n",
       "  </tbody>\n",
       "</table>\n",
       "</div>"
      ],
      "text/plain": [
       "                       count  n_user_score_avg  meta_score_avg\n",
       "developer                                                     \n",
       "From Software              6         83.833333       84.666667\n",
       "DONTNOD Entertainment      6         83.500000       80.166667\n",
       "Spike Chunsoft             6         78.333333       77.000000\n",
       "Arc System Works           8         76.500000       77.625000\n",
       "CyberConnect2              5         76.400000       71.200000\n",
       "SuperMassive Games         5         75.000000       69.200000\n",
       "Tango Gameworks            5         74.800000       73.000000\n",
       "Koei Tecmo Games           7         74.428571       73.571429\n",
       "SCE Japan Studio           5         73.400000       72.800000\n",
       "Konami                     6         72.833333       80.666667"
      ]
     },
     "execution_count": 206,
     "metadata": {},
     "output_type": "execute_result"
    }
   ],
   "source": [
    "dev.loc[dev['count'] > 4].sort_values('n_user_score_avg', ascending=False)[:10]"
   ]
  },
  {
   "cell_type": "code",
   "execution_count": 198,
   "metadata": {
    "hidden": true
   },
   "outputs": [
    {
     "data": {
      "text/plain": [
       "0                                 Bloodborne\n",
       "1                Bloodborne: The Old Hunters\n",
       "2    Dark Souls II: Scholar of the First Sin\n",
       "3                             Dark Souls III\n",
       "4          Dark Souls III: Ashes of Ariandel\n",
       "5            Dark Souls III: The Ringed City\n",
       "Name: title, dtype: object"
      ]
     },
     "execution_count": 198,
     "metadata": {},
     "output_type": "execute_result"
    }
   ],
   "source": [
    "ps4.loc[ps4['developer'] == 'From Software', 'title'].reset_index(drop=True)"
   ]
  },
  {
   "cell_type": "code",
   "execution_count": 200,
   "metadata": {
    "hidden": true
   },
   "outputs": [
    {
     "data": {
      "text/plain": [
       "0                              Life is Strange\n",
       "1       Life is Strange: Episode 1 - Chrysalis\n",
       "2     Life is Strange: Episode 2 - Out of Time\n",
       "3    Life is Strange: Episode 3 - Chaos Theory\n",
       "4       Life is Strange: Episode 4 - Dark Room\n",
       "5       Life is Strange: Episode 5 - Polarized\n",
       "Name: title, dtype: object"
      ]
     },
     "execution_count": 200,
     "metadata": {},
     "output_type": "execute_result"
    }
   ],
   "source": [
    "ps4.loc[ps4['developer'] == 'DONTNOD Entertainment', 'title'].reset_index(drop=True)"
   ]
  },
  {
   "cell_type": "code",
   "execution_count": 197,
   "metadata": {
    "hidden": true
   },
   "outputs": [
    {
     "data": {
      "text/plain": [
       "0              Birthdays the Beginning\n",
       "1            BlazBlue: Central Fiction\n",
       "2    BlazBlue: Chrono Phantasma Extend\n",
       "3                     Double Dragon IV\n",
       "4                 Dragon Ball FighterZ\n",
       "5          Guilty Gear Xrd -REVELATOR-\n",
       "6               Guilty Gear Xrd -SIGN-\n",
       "7               Guilty Gear Xrd: Rev 2\n",
       "Name: title, dtype: object"
      ]
     },
     "execution_count": 197,
     "metadata": {},
     "output_type": "execute_result"
    }
   ],
   "source": [
    "ps4.loc[ps4['developer'] == 'Arc System Works', 'title'].reset_index(drop=True)"
   ]
  },
  {
   "cell_type": "code",
   "execution_count": 209,
   "metadata": {
    "collapsed": true,
    "hidden": true
   },
   "outputs": [],
   "source": [
    "dev = pd.concat([ps4.groupby('developer')['dif'].mean().sort_values(ascending=False), ps4.groupby('developer')['title'].count()], axis=1)"
   ]
  },
  {
   "cell_type": "code",
   "execution_count": 210,
   "metadata": {
    "collapsed": true,
    "hidden": true
   },
   "outputs": [],
   "source": [
    "dev.columns = ['dif_avg', 'count']"
   ]
  },
  {
   "cell_type": "code",
   "execution_count": 212,
   "metadata": {
    "hidden": true
   },
   "outputs": [
    {
     "data": {
      "text/html": [
       "<div>\n",
       "<style>\n",
       "    .dataframe thead tr:only-child th {\n",
       "        text-align: right;\n",
       "    }\n",
       "\n",
       "    .dataframe thead th {\n",
       "        text-align: left;\n",
       "    }\n",
       "\n",
       "    .dataframe tbody tr th {\n",
       "        vertical-align: top;\n",
       "    }\n",
       "</style>\n",
       "<table border=\"1\" class=\"dataframe\">\n",
       "  <thead>\n",
       "    <tr style=\"text-align: right;\">\n",
       "      <th></th>\n",
       "      <th>dif_avg</th>\n",
       "      <th>count</th>\n",
       "    </tr>\n",
       "  </thead>\n",
       "  <tbody>\n",
       "    <tr>\n",
       "      <th>Infinity Ward</th>\n",
       "      <td>40.800000</td>\n",
       "      <td>5</td>\n",
       "    </tr>\n",
       "    <tr>\n",
       "      <th>Treyarch</th>\n",
       "      <td>31.600000</td>\n",
       "      <td>5</td>\n",
       "    </tr>\n",
       "    <tr>\n",
       "      <th>Bungie</th>\n",
       "      <td>31.333333</td>\n",
       "      <td>6</td>\n",
       "    </tr>\n",
       "    <tr>\n",
       "      <th>Visual Concepts</th>\n",
       "      <td>28.400000</td>\n",
       "      <td>5</td>\n",
       "    </tr>\n",
       "    <tr>\n",
       "      <th>EA Sports</th>\n",
       "      <td>24.294118</td>\n",
       "      <td>17</td>\n",
       "    </tr>\n",
       "    <tr>\n",
       "      <th>Zen Studios</th>\n",
       "      <td>23.125000</td>\n",
       "      <td>16</td>\n",
       "    </tr>\n",
       "    <tr>\n",
       "      <th>EA DICE</th>\n",
       "      <td>21.571429</td>\n",
       "      <td>7</td>\n",
       "    </tr>\n",
       "    <tr>\n",
       "      <th>The Odd Gentlemen</th>\n",
       "      <td>14.000000</td>\n",
       "      <td>5</td>\n",
       "    </tr>\n",
       "    <tr>\n",
       "      <th>Bethesda Game Studios</th>\n",
       "      <td>13.285714</td>\n",
       "      <td>7</td>\n",
       "    </tr>\n",
       "    <tr>\n",
       "      <th>Ubisoft</th>\n",
       "      <td>11.571429</td>\n",
       "      <td>7</td>\n",
       "    </tr>\n",
       "  </tbody>\n",
       "</table>\n",
       "</div>"
      ],
      "text/plain": [
       "                         dif_avg  count\n",
       "Infinity Ward          40.800000      5\n",
       "Treyarch               31.600000      5\n",
       "Bungie                 31.333333      6\n",
       "Visual Concepts        28.400000      5\n",
       "EA Sports              24.294118     17\n",
       "Zen Studios            23.125000     16\n",
       "EA DICE                21.571429      7\n",
       "The Odd Gentlemen      14.000000      5\n",
       "Bethesda Game Studios  13.285714      7\n",
       "Ubisoft                11.571429      7"
      ]
     },
     "execution_count": 212,
     "metadata": {},
     "output_type": "execute_result"
    }
   ],
   "source": [
    "dev.loc[dev['count'] > 4].sort_values('dif_avg', ascending=False)[:10]"
   ]
  },
  {
   "cell_type": "code",
   "execution_count": 223,
   "metadata": {
    "collapsed": true,
    "hidden": true
   },
   "outputs": [],
   "source": [
    "ea = ps4.loc[ps4['developer'] == 'EA Sports', ['title', 'meta_score', 'n_user_score']].sort_values('meta_score', ascending=False)[:10]"
   ]
  },
  {
   "cell_type": "code",
   "execution_count": 224,
   "metadata": {
    "hidden": true
   },
   "outputs": [
    {
     "data": {
      "image/png": "[encoded data removed]",
      "text/plain": [
       "<matplotlib.figure.Figure at 0x7efd1ad80978>"
      ]
     },
     "metadata": {},
     "output_type": "display_data"
    }
   ],
   "source": [
    "ea.set_index('title').plot.bar(figsize=(14, 6));"
   ]
  },
  {
   "cell_type": "code",
   "execution_count": 220,
   "metadata": {
    "hidden": true
   },
   "outputs": [
    {
     "data": {
      "text/html": [
       "<div>\n",
       "<style>\n",
       "    .dataframe thead tr:only-child th {\n",
       "        text-align: right;\n",
       "    }\n",
       "\n",
       "    .dataframe thead th {\n",
       "        text-align: left;\n",
       "    }\n",
       "\n",
       "    .dataframe tbody tr th {\n",
       "        vertical-align: top;\n",
       "    }\n",
       "</style>\n",
       "<table border=\"1\" class=\"dataframe\">\n",
       "  <thead>\n",
       "    <tr style=\"text-align: right;\">\n",
       "      <th></th>\n",
       "      <th>dif_avg</th>\n",
       "      <th>count</th>\n",
       "    </tr>\n",
       "  </thead>\n",
       "  <tbody>\n",
       "    <tr>\n",
       "      <th>HB Studios Multimedia</th>\n",
       "      <td>-8.000000</td>\n",
       "      <td>4</td>\n",
       "    </tr>\n",
       "    <tr>\n",
       "      <th>Acquire</th>\n",
       "      <td>-7.750000</td>\n",
       "      <td>4</td>\n",
       "    </tr>\n",
       "    <tr>\n",
       "      <th>SuperMassive Games</th>\n",
       "      <td>-5.800000</td>\n",
       "      <td>5</td>\n",
       "    </tr>\n",
       "    <tr>\n",
       "      <th>Compile Heart</th>\n",
       "      <td>-5.250000</td>\n",
       "      <td>4</td>\n",
       "    </tr>\n",
       "    <tr>\n",
       "      <th>CyberConnect2</th>\n",
       "      <td>-5.200000</td>\n",
       "      <td>5</td>\n",
       "    </tr>\n",
       "    <tr>\n",
       "      <th>Gust</th>\n",
       "      <td>-5.000000</td>\n",
       "      <td>4</td>\n",
       "    </tr>\n",
       "    <tr>\n",
       "      <th>PlatinumGames</th>\n",
       "      <td>-3.600000</td>\n",
       "      <td>5</td>\n",
       "    </tr>\n",
       "    <tr>\n",
       "      <th>DONTNOD Entertainment</th>\n",
       "      <td>-3.333333</td>\n",
       "      <td>6</td>\n",
       "    </tr>\n",
       "    <tr>\n",
       "      <th>Media Vision</th>\n",
       "      <td>-2.750000</td>\n",
       "      <td>4</td>\n",
       "    </tr>\n",
       "    <tr>\n",
       "      <th>Deck Nine Games</th>\n",
       "      <td>-2.750000</td>\n",
       "      <td>4</td>\n",
       "    </tr>\n",
       "  </tbody>\n",
       "</table>\n",
       "</div>"
      ],
      "text/plain": [
       "                        dif_avg  count\n",
       "HB Studios Multimedia -8.000000      4\n",
       "Acquire               -7.750000      4\n",
       "SuperMassive Games    -5.800000      5\n",
       "Compile Heart         -5.250000      4\n",
       "CyberConnect2         -5.200000      5\n",
       "Gust                  -5.000000      4\n",
       "PlatinumGames         -3.600000      5\n",
       "DONTNOD Entertainment -3.333333      6\n",
       "Media Vision          -2.750000      4\n",
       "Deck Nine Games       -2.750000      4"
      ]
     },
     "execution_count": 220,
     "metadata": {},
     "output_type": "execute_result"
    }
   ],
   "source": [
    "dev.loc[dev['count'] >= 4].sort_values('dif_avg')[:10]"
   ]
  },
  {
   "cell_type": "markdown",
   "metadata": {},
   "source": [
    "### Rating"
   ]
  },
  {
   "cell_type": "code",
   "execution_count": 231,
   "metadata": {},
   "outputs": [
    {
     "data": {
      "image/png": "[encoded data removed]",
      "text/plain": [
       "<matplotlib.figure.Figure at 0x7efd1b139358>"
      ]
     },
     "metadata": {},
     "output_type": "display_data"
    }
   ],
   "source": [
    "df['rating'].value_counts().plot.bar(figsize=(12, 6), rot=0);"
   ]
  },
  {
   "cell_type": "code",
   "execution_count": 248,
   "metadata": {
    "collapsed": true
   },
   "outputs": [],
   "source": [
    "qty = df.loc[(df['rating'].isnull() == False) & (df['rating'] != 'RP')].groupby('platform')['title'].count()"
   ]
  },
  {
   "cell_type": "code",
   "execution_count": 255,
   "metadata": {},
   "outputs": [
    {
     "data": {
      "image/png": "[encoded data removed]",
      "text/plain": [
       "<matplotlib.figure.Figure at 0x7efd200ad6a0>"
      ]
     },
     "metadata": {},
     "output_type": "display_data"
    }
   ],
   "source": [
    "((df.loc[df['rating'] != 'RP'].groupby(['platform', 'rating'])['title'].count().unstack().transpose() / qty) * 100).plot.bar(figsize=(12, 6), rot=0);"
   ]
  },
  {
   "cell_type": "code",
   "execution_count": null,
   "metadata": {
    "collapsed": true
   },
   "outputs": [],
   "source": []
  }
 ],
 "metadata": {
  "kernelspec": {
   "display_name": "Python 3",
   "language": "python",
   "name": "python3"
  },
  "language_info": {
   "codemirror_mode": {
    "name": "ipython",
    "version": 3
   },
   "file_extension": ".py",
   "mimetype": "text/x-python",
   "name": "python",
   "nbconvert_exporter": "python",
   "pygments_lexer": "ipython3",
   "version": "3.6.2"
  }
 },
 "nbformat": 4,
 "nbformat_minor": 2
}
